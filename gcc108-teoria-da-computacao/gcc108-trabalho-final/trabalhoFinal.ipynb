{
  "metadata": {
    "language_info": {
      "codemirror_mode": {
        "name": "python",
        "version": 3
      },
      "file_extension": ".py",
      "mimetype": "text/x-python",
      "name": "python",
      "nbconvert_exporter": "python",
      "pygments_lexer": "ipython3",
      "version": "3.8"
    },
    "kernelspec": {
      "name": "python",
      "display_name": "Pyolite",
      "language": "python"
    }
  },
  "nbformat_minor": 4,
  "nbformat": 4,
  "cells": [
    {
      "cell_type": "markdown",
      "source": "# **Trabalho Final - GCC108** \n- Trabalho Final da disciplina de Teoria da Computação - GCC108\n- Link do [repositório](https://github.com/vitormeloa/gcc108-trabalhoFinal)\n\n## 👨‍ &nbsp;**Autor**\n- [Vitor Melo Assunção](https://github.com/vitormeloa)",
      "metadata": {}
    },
    {
      "cell_type": "markdown",
      "source": "## **Exercício 1**\n- A lógica se baseia em diminuir um no segundo número e somar um no primeiro número.",
      "metadata": {}
    },
    {
      "cell_type": "markdown",
      "source": "## **Exercício 2**\n- [Imagem](https://github.com/vitormeloa/gcc108-trabalhoFinal/blob/main/maquinaTuringSomaBinaria.png)",
      "metadata": {}
    },
    {
      "cell_type": "markdown",
      "source": "## **Exercício 3**",
      "metadata": {}
    },
    {
      "cell_type": "markdown",
      "source": "#### Q = {q0,q1,q2,q3,q4,q5,q6}\n#### Σ = {0,1}\n#### Γ = {0,1,B}\n#### δ(0,B) = δ(1,B,D)\n#### δ(1,0) = δ(1,0,D)\n#### δ(1,1) = δ(1,1,D)\n#### δ(1,B) = δ(2,B,D)\n#### δ(2,0) = δ(2,0,D)\n#### δ(2,0) = δ(3,B,E)\n#### δ(2,1) = δ(2,1,D)\n#### δ(3,0) = δ(3,1,E)\n#### δ(3,1) = δ(4,0,E)\n#### δ(3,B) = δ(6,B,D)\n#### δ(4,0) = δ(4,0,E)\n#### δ(4,1) = δ(4,1,E)\n#### δ(4,B) = δ(5,B,E)\n#### δ(5,0) = δ(1,1,D)\n#### δ(5,1) = δ(5,0,E)\n#### δ(5,B) = δ(1,1,D)\n#### δ(6,1) = δ(6,B,D)\n#### q0 = estado inicial",
      "metadata": {}
    },
    {
      "cell_type": "markdown",
      "source": "## **Exercício 4**\n#### R(M) = 0001011101101110110011010110101100110110110110110011011101110111011001110101110101100111010111101110100111011011101101100111101011110110100111101101111101010011110111011111110111011001111101011111010100111110110111110110100111110111011111101110100111111010110110110011111101101111110101001111110111011011011001111111011011111110111011000\n",
      "metadata": {}
    },
    {
      "cell_type": "markdown",
      "source": "## **Exercício 5**",
      "metadata": {}
    },
    {
      "cell_type": "markdown",
      "source": "## **Exercício 6**",
      "metadata": {}
    },
    {
      "cell_type": "markdown",
      "source": "### **A)** Qualquer cálculo que possa ser efetuado de forma automática, utilizando de um método que possua passos finitos, também pode ser feito por uma MT.",
      "metadata": {}
    },
    {
      "cell_type": "markdown",
      "source": "### **B)**",
      "metadata": {}
    },
    {
      "cell_type": "markdown",
      "source": "### **C)**\n#### a) a aa bb bb\n####   aa bb  b  b\n#### b) a bba ba\n####   ab b  aba\n#### c) abb aba aab\n####     ab  ba abab\n#### d)\n####\n#### e)\n####\n#### f)\n####",
      "metadata": {}
    },
    {
      "cell_type": "markdown",
      "source": "### **D)**\n#### a)\n#### b)",
      "metadata": {}
    },
    {
      "cell_type": "markdown",
      "source": "### **E)**\n#### a)\n#### b)",
      "metadata": {}
    },
    {
      "cell_type": "markdown",
      "source": "# **MT:**",
      "metadata": {}
    },
    {
      "cell_type": "code",
      "source": "def estadoQ0(fita, posFita):\n    if fita[posFita] == 'B':\n        posFita = posFita + 1\n        estadoQ1(fita, posFita)\n\ndef estadoQ1(fita, posFita):\n    if fita[posFita] == '0' or fita[posFita] == '1':\n        posFita = posFita + 1\n        estadoQ1(fita, posFita)\n    else:\n        posFita = posFita + 1\n        estadoQ2(fita, posFita)\n\ndef estadoQ2(fita, posFita):\n    if fita[posFita] == '0' or fita[posFita] == '1':\n        posFita = posFita + 1\n        estadoQ2(fita, posFita)\n    else:\n        posFita = posFita - 1\n        estadoQ3(fita, posFita)\n\ndef estadoQ3(fita, posFita):\n    if fita[posFita] == '0':\n        fita[posFita] = '1'\n        posFita = posFita - 1\n        estadoQ3(fita, posFita)\n    elif fita[posFita] == '1':\n        fita[posFita] = '0'\n        posFita = posFita - 1\n        estadoQ4(fita, posFita)\n    else:\n        posFita = posFita + 1\n        estadoQ6(fita, posFita)\n\ndef estadoQ4(fita, posFita):\n    if fita[posFita] == '0' or fita[posFita] == '1':\n        posFita = posFita - 1\n        estadoQ4(fita, posFita)\n    else:\n        posFita = posFita - 1\n        estadoQ5(fita, posFita)\n\ndef estadoQ5(fita, posFita):\n    if posFita == 0:\n        fita.insert(0, 'B')\n        posFita = posFita + 1\n\n\n    if fita[posFita] == '1':\n        fita[posFita] = '0'\n        posFita = posFita - 1\n        estadoQ5(fita, posFita)\n    else:\n        fita[posFita] = '1'\n        posFita = posFita + 1\n\n        estadoQ1(fita, posFita)\n\ndef estadoQ6(fita, posFita):\n    if fita[posFita] == '1':\n        fita[posFita] = 'B'\n        posFita = posFita + 1\n        estadoQ6(fita, posFita)\n    else:\n        while('B' in fita):\n            fita.remove('B')\n        novaFita = ''.join(fita)\n        print(\"Resultado: \" + novaFita)\n\n\nvetorFita = ['B']\n\nprimeiroNumero = input(\"Insira o primeiro numero: \")\nsegundoNumero = input(\"Insira o segundo numero: \")\n\nfor x in list(primeiroNumero):\n    vetorFita.append(x)\n\nvetorFita.append('B')\n\nfor x in list(segundoNumero):\n    vetorFita.append(x)\n\nvetorFita.append('B')\n\nestadoQ0(vetorFita, 0)",
      "metadata": {},
      "execution_count": null,
      "outputs": []
    }
  ]
}